{
 "cells": [
  {
   "cell_type": "markdown",
   "id": "0aa64628-e46c-40d5-adb0-5765060adab6",
   "metadata": {
    "id": "0aa64628-e46c-40d5-adb0-5765060adab6"
   },
   "source": [
    "# Assignment 2"
   ]
  },
  {
   "cell_type": "markdown",
   "id": "17ae6eba-b3d4-4369-84b0-d736da884c15",
   "metadata": {
    "id": "17ae6eba-b3d4-4369-84b0-d736da884c15"
   },
   "source": [
    "## Linear Regression and coeffcient of corelation"
   ]
  },
  {
   "cell_type": "code",
   "execution_count": 2,
   "id": "56c6c9d9-76ba-4214-bdc2-f0be1b0cfa62",
   "metadata": {
    "id": "56c6c9d9-76ba-4214-bdc2-f0be1b0cfa62"
   },
   "outputs": [],
   "source": [
    "import numpy as np\n",
    "import pandas as pd\n",
    "import pymc as pm\n",
    "import arviz as az\n",
    "import matplotlib.pyplot as plt"
   ]
  },
  {
   "cell_type": "markdown",
   "id": "064c4519-03fa-4c0c-9a1b-18038af5e10b",
   "metadata": {
    "id": "064c4519-03fa-4c0c-9a1b-18038af5e10b"
   },
   "source": [
    "### Importing Data from CSV File\n",
    "Using PANDAS to import data from iris.csv"
   ]
  },
  {
   "cell_type": "code",
   "execution_count": 3,
   "id": "8SaBlb7EdHw1",
   "metadata": {
    "id": "8SaBlb7EdHw1"
   },
   "outputs": [],
   "source": [
    "data = pd.read_csv(\"iris.csv\")"
   ]
  },
  {
   "cell_type": "markdown",
   "id": "3f3a4ecf-567d-4b62-9122-66266fd807f4",
   "metadata": {
    "id": "3f3a4ecf-567d-4b62-9122-66266fd807f4"
   },
   "source": [
    "### Calculating the Pearon's correlation\n",
    "Finding the pearson's coefficient for the following pairs:\n",
    "    \n",
    "**1) Sepal Length and Petal Width**\n",
    "\n",
    "**2) Petal Length and Petal Width**\n",
    "\n",
    "We will use the **.corr()** function to find the correlation between the two features. Passing the **method = 'pearson'** argument to find the pearson's correlation coefficient"
   ]
  },
  {
   "cell_type": "code",
   "execution_count": 4,
   "id": "fccf71c7-6eb0-4ec7-b195-8f51439665ef",
   "metadata": {
    "colab": {
     "base_uri": "https://localhost:8080/"
    },
    "id": "fccf71c7-6eb0-4ec7-b195-8f51439665ef",
    "outputId": "6ee56ba2-6794-4fed-b491-51aba4ed4c83"
   },
   "outputs": [
    {
     "name": "stdout",
     "output_type": "stream",
     "text": [
      "Sepal Length and Petal Width: 0.8179411262715754\n",
      "Petal Length and Petal Width: 0.962865431402796\n"
     ]
    }
   ],
   "source": [
    "correlation1 = data[\"sepal_length\"].corr(data[\"petal_width\"], method='pearson')\n",
    "correlation2 = data[\"petal_length\"].corr(data[\"petal_width\"], method='pearson')\n",
    "\n",
    "print(\"Sepal Length and Petal Width:\", correlation1)\n",
    "print(\"Petal Length and Petal Width:\", correlation2)"
   ]
  },
  {
   "cell_type": "markdown",
   "id": "ff504813-b03f-431a-a526-3cda29443d2d",
   "metadata": {
    "id": "ff504813-b03f-431a-a526-3cda29443d2d"
   },
   "source": [
    "### Choosing the independent variable\n",
    "We can see that the correlation coefficient between **Petal Length & Petal Width** is greater, so we'll use **Petal Length as the independent vairble in the first model**"
   ]
  },
  {
   "cell_type": "code",
   "execution_count": 5,
   "id": "5672268f-d8bb-450f-899d-9e2dcc91ab1f",
   "metadata": {
    "colab": {
     "base_uri": "https://localhost:8080/"
    },
    "id": "5672268f-d8bb-450f-899d-9e2dcc91ab1f",
    "outputId": "12bc5a71-40c5-4e01-94c2-d8ac6d06717e"
   },
   "outputs": [
    {
     "name": "stdout",
     "output_type": "stream",
     "text": [
      "Petal Length chosen as the indepent variable for the first model, and Sepal Length for the second model\n"
     ]
    }
   ],
   "source": [
    "Y = data[\"petal_width\"].values  # Dependent variable\n",
    "\n",
    "# Choosing the indepent variable\n",
    "if correlation1 > correlation2:\n",
    "    X1 = data[\"sepal_length\"].values\n",
    "    X2 = data[\"petal_length\"].values\n",
    "    print('Sepal Length chosen as the indepent variable for the first model, and Petal Length for the second model')\n",
    "else:\n",
    "    X1 = data[\"petal_length\"].values\n",
    "    X2 = data[\"sepal_length\"].values\n",
    "    print('Petal Length chosen as the indepent variable for the first model, and Sepal Length for the second model')"
   ]
  },
  {
   "cell_type": "markdown",
   "id": "4c814deb-11e5-427e-ab30-5f48df2de153",
   "metadata": {
    "id": "4c814deb-11e5-427e-ab30-5f48df2de153"
   },
   "source": [
    "## Model 1\n",
    "Making a pymc model, in this case with **petal_width as dependent vairable** & **Petal Length as independent variable**"
   ]
  },
  {
   "cell_type": "code",
   "execution_count": 6,
   "id": "746aa2da-dce7-4bd5-8c0f-883dc4050fb9",
   "metadata": {
    "colab": {
     "base_uri": "https://localhost:8080/",
     "height": 57
    },
    "id": "746aa2da-dce7-4bd5-8c0f-883dc4050fb9",
    "outputId": "fd4e062c-c687-4bbd-ce98-47187f427d54"
   },
   "outputs": [
    {
     "name": "stderr",
     "output_type": "stream",
     "text": [
      "Auto-assigning NUTS sampler...\n",
      "Initializing NUTS using jitter+adapt_diag...\n",
      "Multiprocess sampling (2 chains in 2 jobs)\n",
      "NUTS: [α1, β1, ε1]\n"
     ]
    },
    {
     "data": {
      "text/html": [
       "\n",
       "<style>\n",
       "    /* Turns off some styling */\n",
       "    progress {\n",
       "        /* gets rid of default border in Firefox and Opera. */\n",
       "        border: none;\n",
       "        /* Needs to be in here for Safari polyfill so background images work as expected. */\n",
       "        background-size: auto;\n",
       "    }\n",
       "    progress:not([value]), progress:not([value])::-webkit-progress-bar {\n",
       "        background: repeating-linear-gradient(45deg, #7e7e7e, #7e7e7e 10px, #5c5c5c 10px, #5c5c5c 20px);\n",
       "    }\n",
       "    .progress-bar-interrupted, .progress-bar-interrupted::-webkit-progress-bar {\n",
       "        background: #F44336;\n",
       "    }\n",
       "</style>\n"
      ],
      "text/plain": [
       "<IPython.core.display.HTML object>"
      ]
     },
     "metadata": {},
     "output_type": "display_data"
    },
    {
     "data": {
      "text/html": [
       "\n",
       "    <div>\n",
       "      <progress value='207' class='' max='4000' style='width:300px; height:20px; vertical-align: middle;'></progress>\n",
       "      5.17% [207/4000 01:08&lt;20:52 Sampling 2 chains, 0 divergences]\n",
       "    </div>\n",
       "    "
      ],
      "text/plain": [
       "<IPython.core.display.HTML object>"
      ]
     },
     "metadata": {},
     "output_type": "display_data"
    },
    {
     "ename": "ValueError",
     "evalue": "Not enough samples to build a trace.",
     "output_type": "error",
     "traceback": [
      "\u001b[1;31m---------------------------------------------------------------------------\u001b[0m",
      "\u001b[1;31mValueError\u001b[0m                                Traceback (most recent call last)",
      "Cell \u001b[1;32mIn[6], line 7\u001b[0m\n\u001b[0;32m      5\u001b[0m μ \u001b[38;5;241m=\u001b[39m pm\u001b[38;5;241m.\u001b[39mDeterministic(\u001b[38;5;124m'\u001b[39m\u001b[38;5;124mμ1\u001b[39m\u001b[38;5;124m'\u001b[39m, α \u001b[38;5;241m+\u001b[39m β \u001b[38;5;241m*\u001b[39m X1)  \u001b[38;5;66;03m# To include the origonal values in the trace\u001b[39;00m\n\u001b[0;32m      6\u001b[0m y1_pred \u001b[38;5;241m=\u001b[39m pm\u001b[38;5;241m.\u001b[39mNormal(\u001b[38;5;124m'\u001b[39m\u001b[38;5;124my1_pred\u001b[39m\u001b[38;5;124m'\u001b[39m, mu\u001b[38;5;241m=\u001b[39mμ, sigma\u001b[38;5;241m=\u001b[39mε, observed\u001b[38;5;241m=\u001b[39mY)\n\u001b[1;32m----> 7\u001b[0m trace1 \u001b[38;5;241m=\u001b[39m \u001b[43mpm\u001b[49m\u001b[38;5;241;43m.\u001b[39;49m\u001b[43msample\u001b[49m\u001b[43m(\u001b[49m\u001b[38;5;241;43m1000\u001b[39;49m\u001b[43m,\u001b[49m\u001b[43m \u001b[49m\u001b[43mchains\u001b[49m\u001b[38;5;241;43m=\u001b[39;49m\u001b[38;5;241;43m2\u001b[39;49m\u001b[43m)\u001b[49m\n",
      "File \u001b[1;32m~\\AppData\\Local\\Programs\\Python\\Python311\\Lib\\site-packages\\pymc\\sampling\\mcmc.py:789\u001b[0m, in \u001b[0;36msample\u001b[1;34m(draws, tune, chains, cores, random_seed, progressbar, step, nuts_sampler, initvals, init, jitter_max_retries, n_init, trace, discard_tuned_samples, compute_convergence_checks, keep_warning_stat, return_inferencedata, idata_kwargs, nuts_sampler_kwargs, callback, mp_ctx, model, **kwargs)\u001b[0m\n\u001b[0;32m    785\u001b[0m t_sampling \u001b[38;5;241m=\u001b[39m time\u001b[38;5;241m.\u001b[39mtime() \u001b[38;5;241m-\u001b[39m t_start\n\u001b[0;32m    787\u001b[0m \u001b[38;5;66;03m# Packaging, validating and returning the result was extracted\u001b[39;00m\n\u001b[0;32m    788\u001b[0m \u001b[38;5;66;03m# into a function to make it easier to test and refactor.\u001b[39;00m\n\u001b[1;32m--> 789\u001b[0m \u001b[38;5;28;01mreturn\u001b[39;00m \u001b[43m_sample_return\u001b[49m\u001b[43m(\u001b[49m\n\u001b[0;32m    790\u001b[0m \u001b[43m    \u001b[49m\u001b[43mrun\u001b[49m\u001b[38;5;241;43m=\u001b[39;49m\u001b[43mrun\u001b[49m\u001b[43m,\u001b[49m\n\u001b[0;32m    791\u001b[0m \u001b[43m    \u001b[49m\u001b[43mtraces\u001b[49m\u001b[38;5;241;43m=\u001b[39;49m\u001b[43mtraces\u001b[49m\u001b[43m,\u001b[49m\n\u001b[0;32m    792\u001b[0m \u001b[43m    \u001b[49m\u001b[43mtune\u001b[49m\u001b[38;5;241;43m=\u001b[39;49m\u001b[43mtune\u001b[49m\u001b[43m,\u001b[49m\n\u001b[0;32m    793\u001b[0m \u001b[43m    \u001b[49m\u001b[43mt_sampling\u001b[49m\u001b[38;5;241;43m=\u001b[39;49m\u001b[43mt_sampling\u001b[49m\u001b[43m,\u001b[49m\n\u001b[0;32m    794\u001b[0m \u001b[43m    \u001b[49m\u001b[43mdiscard_tuned_samples\u001b[49m\u001b[38;5;241;43m=\u001b[39;49m\u001b[43mdiscard_tuned_samples\u001b[49m\u001b[43m,\u001b[49m\n\u001b[0;32m    795\u001b[0m \u001b[43m    \u001b[49m\u001b[43mcompute_convergence_checks\u001b[49m\u001b[38;5;241;43m=\u001b[39;49m\u001b[43mcompute_convergence_checks\u001b[49m\u001b[43m,\u001b[49m\n\u001b[0;32m    796\u001b[0m \u001b[43m    \u001b[49m\u001b[43mreturn_inferencedata\u001b[49m\u001b[38;5;241;43m=\u001b[39;49m\u001b[43mreturn_inferencedata\u001b[49m\u001b[43m,\u001b[49m\n\u001b[0;32m    797\u001b[0m \u001b[43m    \u001b[49m\u001b[43mkeep_warning_stat\u001b[49m\u001b[38;5;241;43m=\u001b[39;49m\u001b[43mkeep_warning_stat\u001b[49m\u001b[43m,\u001b[49m\n\u001b[0;32m    798\u001b[0m \u001b[43m    \u001b[49m\u001b[43midata_kwargs\u001b[49m\u001b[38;5;241;43m=\u001b[39;49m\u001b[43midata_kwargs\u001b[49m\u001b[43m \u001b[49m\u001b[38;5;129;43;01mor\u001b[39;49;00m\u001b[43m \u001b[49m\u001b[43m{\u001b[49m\u001b[43m}\u001b[49m\u001b[43m,\u001b[49m\n\u001b[0;32m    799\u001b[0m \u001b[43m    \u001b[49m\u001b[43mmodel\u001b[49m\u001b[38;5;241;43m=\u001b[39;49m\u001b[43mmodel\u001b[49m\u001b[43m,\u001b[49m\n\u001b[0;32m    800\u001b[0m \u001b[43m\u001b[49m\u001b[43m)\u001b[49m\n",
      "File \u001b[1;32m~\\AppData\\Local\\Programs\\Python\\Python311\\Lib\\site-packages\\pymc\\sampling\\mcmc.py:820\u001b[0m, in \u001b[0;36m_sample_return\u001b[1;34m(run, traces, tune, t_sampling, discard_tuned_samples, compute_convergence_checks, return_inferencedata, keep_warning_stat, idata_kwargs, model)\u001b[0m\n\u001b[0;32m    818\u001b[0m \u001b[38;5;66;03m# Pick and slice chains to keep the maximum number of samples\u001b[39;00m\n\u001b[0;32m    819\u001b[0m \u001b[38;5;28;01mif\u001b[39;00m discard_tuned_samples:\n\u001b[1;32m--> 820\u001b[0m     traces, length \u001b[38;5;241m=\u001b[39m \u001b[43m_choose_chains\u001b[49m\u001b[43m(\u001b[49m\u001b[43mtraces\u001b[49m\u001b[43m,\u001b[49m\u001b[43m \u001b[49m\u001b[43mtune\u001b[49m\u001b[43m)\u001b[49m\n\u001b[0;32m    821\u001b[0m \u001b[38;5;28;01melse\u001b[39;00m:\n\u001b[0;32m    822\u001b[0m     traces, length \u001b[38;5;241m=\u001b[39m _choose_chains(traces, \u001b[38;5;241m0\u001b[39m)\n",
      "File \u001b[1;32m~\\AppData\\Local\\Programs\\Python\\Python311\\Lib\\site-packages\\pymc\\backends\\base.py:601\u001b[0m, in \u001b[0;36m_choose_chains\u001b[1;34m(traces, tune)\u001b[0m\n\u001b[0;32m    599\u001b[0m lengths \u001b[38;5;241m=\u001b[39m [\u001b[38;5;28mmax\u001b[39m(\u001b[38;5;241m0\u001b[39m, \u001b[38;5;28mlen\u001b[39m(trace) \u001b[38;5;241m-\u001b[39m tune) \u001b[38;5;28;01mfor\u001b[39;00m trace \u001b[38;5;129;01min\u001b[39;00m traces]\n\u001b[0;32m    600\u001b[0m \u001b[38;5;28;01mif\u001b[39;00m \u001b[38;5;129;01mnot\u001b[39;00m \u001b[38;5;28msum\u001b[39m(lengths):\n\u001b[1;32m--> 601\u001b[0m     \u001b[38;5;28;01mraise\u001b[39;00m \u001b[38;5;167;01mValueError\u001b[39;00m(\u001b[38;5;124m\"\u001b[39m\u001b[38;5;124mNot enough samples to build a trace.\u001b[39m\u001b[38;5;124m\"\u001b[39m)\n\u001b[0;32m    603\u001b[0m idxs \u001b[38;5;241m=\u001b[39m np\u001b[38;5;241m.\u001b[39margsort(lengths)\n\u001b[0;32m    604\u001b[0m l_sort \u001b[38;5;241m=\u001b[39m np\u001b[38;5;241m.\u001b[39marray(lengths)[idxs]\n",
      "\u001b[1;31mValueError\u001b[0m: Not enough samples to build a trace."
     ]
    }
   ],
   "source": [
    "with pm.Model() as model1:\n",
    "  α = pm.Normal('α1', mu=0, sigma=10)\n",
    "  β = pm.Normal('β1', mu=0, sigma=1)\n",
    "  ε = pm.HalfCauchy('ε1', 5)\n",
    "  μ = pm.Deterministic('μ1', α + β * X1)  # To include the origonal values in the trace\n",
    "  y1_pred = pm.Normal('y1_pred', mu=μ, sigma=ε, observed=Y)\n",
    "  trace1 = pm.sample(1000, chains=2)"
   ]
  },
  {
   "cell_type": "markdown",
   "id": "lTSqrR2ddwps",
   "metadata": {
    "id": "lTSqrR2ddwps"
   },
   "source": [
    "## Model 2\n",
    "Making a pymc model, in this case with **petal_width as dependent vairable** & **Sepal Length as independent variable**"
   ]
  },
  {
   "cell_type": "code",
   "execution_count": 8,
   "id": "beff0d5b-da2a-48c0-9acb-84e7fe3bb7d5",
   "metadata": {
    "colab": {
     "base_uri": "https://localhost:8080/",
     "height": 57
    },
    "id": "beff0d5b-da2a-48c0-9acb-84e7fe3bb7d5",
    "outputId": "becc6e5f-692f-4fcf-df06-2a5fbc64774d"
   },
   "outputs": [
    {
     "data": {
      "text/html": [
       "\n",
       "<style>\n",
       "    /* Turns off some styling */\n",
       "    progress {\n",
       "        /* gets rid of default border in Firefox and Opera. */\n",
       "        border: none;\n",
       "        /* Needs to be in here for Safari polyfill so background images work as expected. */\n",
       "        background-size: auto;\n",
       "    }\n",
       "    progress:not([value]), progress:not([value])::-webkit-progress-bar {\n",
       "        background: repeating-linear-gradient(45deg, #7e7e7e, #7e7e7e 10px, #5c5c5c 10px, #5c5c5c 20px);\n",
       "    }\n",
       "    .progress-bar-interrupted, .progress-bar-interrupted::-webkit-progress-bar {\n",
       "        background: #F44336;\n",
       "    }\n",
       "</style>\n"
      ],
      "text/plain": [
       "<IPython.core.display.HTML object>"
      ]
     },
     "metadata": {},
     "output_type": "display_data"
    },
    {
     "data": {
      "text/html": [
       "\n",
       "    <div>\n",
       "      <progress value='2000' class='' max='2000' style='width:300px; height:20px; vertical-align: middle;'></progress>\n",
       "      100.00% [2000/2000 00:08&lt;00:00 Sampling chain 0, 0 divergences]\n",
       "    </div>\n",
       "    "
      ],
      "text/plain": [
       "<IPython.core.display.HTML object>"
      ]
     },
     "metadata": {},
     "output_type": "display_data"
    },
    {
     "data": {
      "text/html": [
       "\n",
       "<style>\n",
       "    /* Turns off some styling */\n",
       "    progress {\n",
       "        /* gets rid of default border in Firefox and Opera. */\n",
       "        border: none;\n",
       "        /* Needs to be in here for Safari polyfill so background images work as expected. */\n",
       "        background-size: auto;\n",
       "    }\n",
       "    progress:not([value]), progress:not([value])::-webkit-progress-bar {\n",
       "        background: repeating-linear-gradient(45deg, #7e7e7e, #7e7e7e 10px, #5c5c5c 10px, #5c5c5c 20px);\n",
       "    }\n",
       "    .progress-bar-interrupted, .progress-bar-interrupted::-webkit-progress-bar {\n",
       "        background: #F44336;\n",
       "    }\n",
       "</style>\n"
      ],
      "text/plain": [
       "<IPython.core.display.HTML object>"
      ]
     },
     "metadata": {},
     "output_type": "display_data"
    },
    {
     "data": {
      "text/html": [
       "\n",
       "    <div>\n",
       "      <progress value='2000' class='' max='2000' style='width:300px; height:20px; vertical-align: middle;'></progress>\n",
       "      100.00% [2000/2000 00:08&lt;00:00 Sampling chain 1, 0 divergences]\n",
       "    </div>\n",
       "    "
      ],
      "text/plain": [
       "<IPython.core.display.HTML object>"
      ]
     },
     "metadata": {},
     "output_type": "display_data"
    }
   ],
   "source": [
    "with pm.Model() as model2:\n",
    "  α = pm.Normal('α1', mu=0, sigma=10)\n",
    "  β = pm.Normal('β1', mu=0, sigma=1)\n",
    "  ε = pm.HalfCauchy('ε1', 5)\n",
    "  μ = pm.Deterministic('μ1', α + β * X2)  # To include the origonal values in the trace\n",
    "  y2_pred = pm.Normal('y2_pred', mu=μ, sigma=ε, observed=Y)\n",
    "  trace2 = pm.sample(1000, chains=2)"
   ]
  },
  {
   "cell_type": "markdown",
   "id": "EULFy2ubfdOc",
   "metadata": {
    "id": "EULFy2ubfdOc"
   },
   "source": [
    "### Calculating the R-Squared Values for both models\n",
    "We can calculate the R-Squared Values using **az.r2_score()** function in the arviz library. But first we need to obtain the posterior predictive samples."
   ]
  },
  {
   "cell_type": "code",
   "execution_count": 9,
   "id": "5E54Y8QAf1Rk",
   "metadata": {
    "colab": {
     "base_uri": "https://localhost:8080/",
     "height": 89
    },
    "id": "5E54Y8QAf1Rk",
    "outputId": "6e18055f-f979-4110-88eb-d9837d157a1a"
   },
   "outputs": [
    {
     "data": {
      "text/html": [
       "\n",
       "<style>\n",
       "    /* Turns off some styling */\n",
       "    progress {\n",
       "        /* gets rid of default border in Firefox and Opera. */\n",
       "        border: none;\n",
       "        /* Needs to be in here for Safari polyfill so background images work as expected. */\n",
       "        background-size: auto;\n",
       "    }\n",
       "    progress:not([value]), progress:not([value])::-webkit-progress-bar {\n",
       "        background: repeating-linear-gradient(45deg, #7e7e7e, #7e7e7e 10px, #5c5c5c 10px, #5c5c5c 20px);\n",
       "    }\n",
       "    .progress-bar-interrupted, .progress-bar-interrupted::-webkit-progress-bar {\n",
       "        background: #F44336;\n",
       "    }\n",
       "</style>\n"
      ],
      "text/plain": [
       "<IPython.core.display.HTML object>"
      ]
     },
     "metadata": {},
     "output_type": "display_data"
    },
    {
     "data": {
      "text/html": [
       "\n",
       "    <div>\n",
       "      <progress value='2000' class='' max='2000' style='width:300px; height:20px; vertical-align: middle;'></progress>\n",
       "      100.00% [2000/2000 00:00&lt;00:00]\n",
       "    </div>\n",
       "    "
      ],
      "text/plain": [
       "<IPython.core.display.HTML object>"
      ]
     },
     "metadata": {},
     "output_type": "display_data"
    },
    {
     "data": {
      "text/plain": [
       "r2        0.871287\n",
       "r2_std    0.014170\n",
       "dtype: float64"
      ]
     },
     "execution_count": 9,
     "metadata": {},
     "output_type": "execute_result"
    }
   ],
   "source": [
    "ppc1 = pm.sample_posterior_predictive(trace1, model=model1)\n",
    "y_pred_ppc1 = az.extract(ppc1, group=\"posterior_predictive\", var_names=\"y1_pred\").values.T\n",
    "az.r2_score(Y, y_pred_ppc1)"
   ]
  },
  {
   "cell_type": "code",
   "execution_count": 10,
   "id": "LEss3rVsmkLp",
   "metadata": {
    "colab": {
     "base_uri": "https://localhost:8080/",
     "height": 89
    },
    "id": "LEss3rVsmkLp",
    "outputId": "81a0baa8-8ecd-4740-d481-cffa9f39b1f7"
   },
   "outputs": [
    {
     "data": {
      "text/html": [
       "\n",
       "<style>\n",
       "    /* Turns off some styling */\n",
       "    progress {\n",
       "        /* gets rid of default border in Firefox and Opera. */\n",
       "        border: none;\n",
       "        /* Needs to be in here for Safari polyfill so background images work as expected. */\n",
       "        background-size: auto;\n",
       "    }\n",
       "    progress:not([value]), progress:not([value])::-webkit-progress-bar {\n",
       "        background: repeating-linear-gradient(45deg, #7e7e7e, #7e7e7e 10px, #5c5c5c 10px, #5c5c5c 20px);\n",
       "    }\n",
       "    .progress-bar-interrupted, .progress-bar-interrupted::-webkit-progress-bar {\n",
       "        background: #F44336;\n",
       "    }\n",
       "</style>\n"
      ],
      "text/plain": [
       "<IPython.core.display.HTML object>"
      ]
     },
     "metadata": {},
     "output_type": "display_data"
    },
    {
     "data": {
      "text/html": [
       "\n",
       "    <div>\n",
       "      <progress value='2000' class='' max='2000' style='width:300px; height:20px; vertical-align: middle;'></progress>\n",
       "      100.00% [2000/2000 00:00&lt;00:00]\n",
       "    </div>\n",
       "    "
      ],
      "text/plain": [
       "<IPython.core.display.HTML object>"
      ]
     },
     "metadata": {},
     "output_type": "display_data"
    },
    {
     "data": {
      "text/plain": [
       "r2        0.599941\n",
       "r2_std    0.033100\n",
       "dtype: float64"
      ]
     },
     "execution_count": 10,
     "metadata": {},
     "output_type": "execute_result"
    }
   ],
   "source": [
    "ppc2 = pm.sample_posterior_predictive(trace2, model=model2)\n",
    "y_pred_ppc2 = az.extract(ppc2, group=\"posterior_predictive\", var_names=\"y2_pred\").values.T\n",
    "az.r2_score(Y, y_pred_ppc2)"
   ]
  },
  {
   "cell_type": "markdown",
   "id": "0unnqzFRrevW",
   "metadata": {
    "id": "0unnqzFRrevW",
    "jp-MarkdownHeadingCollapsed": true
   },
   "source": [
    "## Which model is better?\n",
    "We can see that the r2 value of first model is greater than the second one, which means that **model 1 provides a better fit** to the data. Hence, the first model using **Petal Length** is better than the second one, because petal length has a greater impact in determining the petal width, comapred to sepal width.\n"
   ]
  }
 ],
 "metadata": {
  "colab": {
   "provenance": []
  },
  "kernelspec": {
   "display_name": "Python 3 (ipykernel)",
   "language": "python",
   "name": "python3"
  },
  "language_info": {
   "codemirror_mode": {
    "name": "ipython",
    "version": 3
   },
   "file_extension": ".py",
   "mimetype": "text/x-python",
   "name": "python",
   "nbconvert_exporter": "python",
   "pygments_lexer": "ipython3",
   "version": "3.11.5"
  }
 },
 "nbformat": 4,
 "nbformat_minor": 5
}
